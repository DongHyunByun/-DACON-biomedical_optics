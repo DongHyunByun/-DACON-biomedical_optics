{
 "cells": [
  {
   "cell_type": "code",
   "execution_count": 22,
   "metadata": {},
   "outputs": [],
   "source": [
    "import pandas as pd\n",
    "import numpy as np"
   ]
  },
  {
   "cell_type": "code",
   "execution_count": 116,
   "metadata": {},
   "outputs": [
    {
     "data": {
      "text/plain": [
       "id         4.999500e+03\n",
       "rho        1.756800e+01\n",
       "650_src    1.802125e-01\n",
       "660_src    2.035285e-01\n",
       "670_src    2.298040e-01\n",
       "               ...     \n",
       "990_dst    2.364072e-10\n",
       "hhb        7.990686e+00\n",
       "hbo2       4.009146e+00\n",
       "ca         9.019226e+00\n",
       "na         3.042651e+00\n",
       "Length: 76, dtype: float64"
      ]
     },
     "execution_count": 116,
     "metadata": {},
     "output_type": "execute_result"
    }
   ],
   "source": [
    "csv=pd.read_csv(\"train.csv\")\n",
    "csv.mean()"
   ]
  },
  {
   "cell_type": "code",
   "execution_count": 118,
   "metadata": {},
   "outputs": [
    {
     "name": "stderr",
     "output_type": "stream",
     "text": [
      "C:\\anaconda\\lib\\site-packages\\ipykernel_launcher.py:7: FutureWarning: Method .as_matrix will be removed in a future version. Use .values instead.\n",
      "  import sys\n"
     ]
    }
   ],
   "source": [
    "size=len(csv)\n",
    "x_col=csv.columns[1:-4]\n",
    "y_col=csv.columns[-4:]\n",
    "isNan=csv.isna()\n",
    "\n",
    "\n",
    "x=csv[[i for i in x_col]].as_matrix()\n",
    "x=[]\n",
    "for i in range(size):\n",
    "    temp=[]\n",
    "    for col in x_col:\n",
    "        #결측치면 평균으로\n",
    "        if isNan[col][i]:\n",
    "            temp.append(csv.mean()[col])\n",
    "        else:\n",
    "            temp.append(csv[col][i])\n",
    "    x.append(temp)\n",
    "\n",
    "y=[]\n",
    "for i in range(size):\n",
    "    total=0\n",
    "    for col in y_col:\n",
    "        total+=csv[col][i]\n",
    "        \n",
    "    myL=[csv[col][i]/total for col in y_col]\n",
    "    y.append(myL)\n",
    "\n",
    "x=np.array(x,dtype=np.float64)\n",
    "y=np.array(y,dtype=np.float64)"
   ]
  },
  {
   "cell_type": "code",
   "execution_count": 123,
   "metadata": {},
   "outputs": [
    {
     "name": "stdout",
     "output_type": "stream",
     "text": [
      "71 4\n"
     ]
    }
   ],
   "source": [
    "print(len(x[0]),len(y[0]))\n"
   ]
  },
  {
   "cell_type": "code",
   "execution_count": 121,
   "metadata": {},
   "outputs": [],
   "source": [
    "import tensorflow as tf\n",
    "from tensorflow.keras import layers"
   ]
  },
  {
   "cell_type": "code",
   "execution_count": 136,
   "metadata": {},
   "outputs": [],
   "source": [
    "def dnn(x,y):\n",
    "    model = tf.keras.Sequential()  #순차적 계층화 준비\n",
    "    model.add(layers.Dense(30, input_shape=(71,)))  #입력 2개로부터 전달받는 8개 노드의 layer 생성\n",
    "    model.add(layers.Activation('relu'))  #ReLU 활성화함수 채택\n",
    "    model.add(layers.Dropout(0.1))        #dropout ratio=10% (배치 훈련시 10% arc 무시)\n",
    "\n",
    "    model.add(layers.Dense(30))         #4개 노드의 layer 생성\n",
    "    model.add(layers.Activation('relu'))\n",
    "    model.add(layers.Dropout(0.1))\n",
    "\n",
    "    model.add(layers.Dense(4))\n",
    "    model.add(layers.Activation('softmax')) #분류(classification)을 위해 softmax 함수 사용\n",
    "\n",
    "    # 모델 구축하기\n",
    "    model.compile(\n",
    "        loss='categorical_crossentropy',  #다중 교차엔트로피\n",
    "        optimizer=\"rmsprop\",   #최적화 기법 중 하나\n",
    "        metrics=['accuracy'])  #정확도 측정\n",
    "    \n",
    "    hist = model.fit(\n",
    "    x, y,\n",
    "    batch_size=100,  #100개에 한 번씩 업데이터 실행\n",
    "    epochs=800,     \n",
    "    validation_split=0.2,  \n",
    "    callbacks=[tf.keras.callbacks.EarlyStopping(monitor='val_loss', patience=50)],  \n",
    "      #'val_loss'를 monitor하여 감소하면 한 번 더(1) 참고 조기중지\n",
    "    verbose=1)\n",
    "    \n",
    "    return hist,model\n"
   ]
  },
  {
   "cell_type": "code",
   "execution_count": 137,
   "metadata": {},
   "outputs": [
    {
     "name": "stdout",
     "output_type": "stream",
     "text": [
      "Train on 8000 samples, validate on 2000 samples\n",
      "Epoch 1/800\n",
      "8000/8000 [==============================] - 1s 106us/sample - loss: 1.3701 - accuracy: 0.4750 - val_loss: 1.3026 - val_accuracy: 0.5730\n",
      "Epoch 2/800\n",
      "8000/8000 [==============================] - 0s 20us/sample - loss: 1.3070 - accuracy: 0.5518 - val_loss: 1.3001 - val_accuracy: 0.5880\n",
      "Epoch 3/800\n",
      "8000/8000 [==============================] - 0s 22us/sample - loss: 1.3014 - accuracy: 0.5642 - val_loss: 1.2985 - val_accuracy: 0.5900\n",
      "Epoch 4/800\n",
      "8000/8000 [==============================] - 0s 20us/sample - loss: 1.2993 - accuracy: 0.5764 - val_loss: 1.2984 - val_accuracy: 0.5900\n",
      "Epoch 5/800\n",
      "8000/8000 [==============================] - 0s 21us/sample - loss: 1.2984 - accuracy: 0.5794 - val_loss: 1.2982 - val_accuracy: 0.5900\n",
      "Epoch 6/800\n",
      "8000/8000 [==============================] - 0s 21us/sample - loss: 1.2979 - accuracy: 0.5826 - val_loss: 1.2981 - val_accuracy: 0.5900\n",
      "Epoch 7/800\n",
      "8000/8000 [==============================] - 0s 19us/sample - loss: 1.2974 - accuracy: 0.5836 - val_loss: 1.2980 - val_accuracy: 0.5900\n",
      "Epoch 8/800\n",
      "8000/8000 [==============================] - 0s 21us/sample - loss: 1.2973 - accuracy: 0.5840 - val_loss: 1.2983 - val_accuracy: 0.5900\n",
      "Epoch 9/800\n",
      "8000/8000 [==============================] - 0s 20us/sample - loss: 1.2971 - accuracy: 0.5841 - val_loss: 1.2979 - val_accuracy: 0.5900\n",
      "Epoch 10/800\n",
      "8000/8000 [==============================] - 0s 20us/sample - loss: 1.2969 - accuracy: 0.5847 - val_loss: 1.2979 - val_accuracy: 0.5900\n",
      "Epoch 11/800\n",
      "8000/8000 [==============================] - 0s 19us/sample - loss: 1.2969 - accuracy: 0.5849 - val_loss: 1.2980 - val_accuracy: 0.5900\n",
      "Epoch 12/800\n",
      "8000/8000 [==============================] - 0s 21us/sample - loss: 1.2967 - accuracy: 0.5849 - val_loss: 1.2979 - val_accuracy: 0.5900\n",
      "Epoch 13/800\n",
      "8000/8000 [==============================] - 0s 19us/sample - loss: 1.2967 - accuracy: 0.5846 - val_loss: 1.2977 - val_accuracy: 0.5900\n",
      "Epoch 14/800\n",
      "8000/8000 [==============================] - 0s 19us/sample - loss: 1.2967 - accuracy: 0.5849 - val_loss: 1.2977 - val_accuracy: 0.5900\n",
      "Epoch 15/800\n",
      "8000/8000 [==============================] - 0s 20us/sample - loss: 1.2967 - accuracy: 0.5847 - val_loss: 1.2977 - val_accuracy: 0.5900\n",
      "Epoch 16/800\n",
      "8000/8000 [==============================] - 0s 19us/sample - loss: 1.2966 - accuracy: 0.5847 - val_loss: 1.2977 - val_accuracy: 0.5900\n",
      "Epoch 17/800\n",
      "8000/8000 [==============================] - 0s 19us/sample - loss: 1.2966 - accuracy: 0.5849 - val_loss: 1.2976 - val_accuracy: 0.5900\n",
      "Epoch 18/800\n",
      "8000/8000 [==============================] - 0s 20us/sample - loss: 1.2965 - accuracy: 0.5849 - val_loss: 1.2978 - val_accuracy: 0.5900\n",
      "Epoch 19/800\n",
      "8000/8000 [==============================] - 0s 22us/sample - loss: 1.2966 - accuracy: 0.5849 - val_loss: 1.2977 - val_accuracy: 0.5900\n",
      "Epoch 20/800\n",
      "8000/8000 [==============================] - 0s 20us/sample - loss: 1.2965 - accuracy: 0.5849 - val_loss: 1.2978 - val_accuracy: 0.5900\n",
      "Epoch 21/800\n",
      "8000/8000 [==============================] - 0s 21us/sample - loss: 1.2965 - accuracy: 0.5849 - val_loss: 1.2978 - val_accuracy: 0.5900\n",
      "Epoch 22/800\n",
      "8000/8000 [==============================] - 0s 18us/sample - loss: 1.2964 - accuracy: 0.5849 - val_loss: 1.2976 - val_accuracy: 0.5900\n",
      "Epoch 23/800\n",
      "8000/8000 [==============================] - 0s 19us/sample - loss: 1.2964 - accuracy: 0.5849 - val_loss: 1.2977 - val_accuracy: 0.5900\n",
      "Epoch 24/800\n",
      "8000/8000 [==============================] - 0s 19us/sample - loss: 1.2964 - accuracy: 0.5849 - val_loss: 1.2977 - val_accuracy: 0.5900\n",
      "Epoch 25/800\n",
      "8000/8000 [==============================] - 0s 20us/sample - loss: 1.2964 - accuracy: 0.5849 - val_loss: 1.2977 - val_accuracy: 0.5900\n",
      "Epoch 26/800\n",
      "8000/8000 [==============================] - 0s 19us/sample - loss: 1.2964 - accuracy: 0.5849 - val_loss: 1.2976 - val_accuracy: 0.5900\n",
      "Epoch 27/800\n",
      "8000/8000 [==============================] - 0s 19us/sample - loss: 1.2964 - accuracy: 0.5849 - val_loss: 1.2976 - val_accuracy: 0.5900\n",
      "Epoch 28/800\n",
      "8000/8000 [==============================] - 0s 19us/sample - loss: 1.2964 - accuracy: 0.5849 - val_loss: 1.2977 - val_accuracy: 0.5900\n",
      "Epoch 29/800\n",
      "8000/8000 [==============================] - 0s 19us/sample - loss: 1.2964 - accuracy: 0.5849 - val_loss: 1.2977 - val_accuracy: 0.5900\n",
      "Epoch 30/800\n",
      "8000/8000 [==============================] - 0s 22us/sample - loss: 1.2964 - accuracy: 0.5849 - val_loss: 1.2977 - val_accuracy: 0.5900\n",
      "Epoch 31/800\n",
      "8000/8000 [==============================] - 0s 20us/sample - loss: 1.2963 - accuracy: 0.5849 - val_loss: 1.2977 - val_accuracy: 0.5900\n",
      "Epoch 32/800\n",
      "8000/8000 [==============================] - 0s 21us/sample - loss: 1.2964 - accuracy: 0.5849 - val_loss: 1.2977 - val_accuracy: 0.5900\n",
      "Epoch 33/800\n",
      "8000/8000 [==============================] - 0s 20us/sample - loss: 1.2964 - accuracy: 0.5849 - val_loss: 1.2976 - val_accuracy: 0.5900\n",
      "Epoch 34/800\n",
      "8000/8000 [==============================] - 0s 21us/sample - loss: 1.2963 - accuracy: 0.5849 - val_loss: 1.2977 - val_accuracy: 0.5900\n",
      "Epoch 35/800\n",
      "8000/8000 [==============================] - 0s 21us/sample - loss: 1.2963 - accuracy: 0.5849 - val_loss: 1.2977 - val_accuracy: 0.5900\n",
      "Epoch 36/800\n",
      "8000/8000 [==============================] - 0s 19us/sample - loss: 1.2963 - accuracy: 0.5849 - val_loss: 1.2976 - val_accuracy: 0.5900\n",
      "Epoch 37/800\n",
      "8000/8000 [==============================] - 0s 18us/sample - loss: 1.2964 - accuracy: 0.5849 - val_loss: 1.2977 - val_accuracy: 0.5900\n",
      "Epoch 38/800\n",
      "8000/8000 [==============================] - 0s 19us/sample - loss: 1.2964 - accuracy: 0.5849 - val_loss: 1.2977 - val_accuracy: 0.5900\n",
      "Epoch 39/800\n",
      "8000/8000 [==============================] - 0s 22us/sample - loss: 1.2964 - accuracy: 0.5849 - val_loss: 1.2977 - val_accuracy: 0.5900\n",
      "Epoch 40/800\n",
      "8000/8000 [==============================] - 0s 20us/sample - loss: 1.2964 - accuracy: 0.5849 - val_loss: 1.2977 - val_accuracy: 0.5900\n",
      "Epoch 41/800\n",
      "8000/8000 [==============================] - 0s 19us/sample - loss: 1.2963 - accuracy: 0.5850 - val_loss: 1.2977 - val_accuracy: 0.5900\n",
      "Epoch 42/800\n",
      "8000/8000 [==============================] - 0s 18us/sample - loss: 1.2964 - accuracy: 0.5849 - val_loss: 1.2977 - val_accuracy: 0.5900\n",
      "Epoch 43/800\n",
      "8000/8000 [==============================] - 0s 18us/sample - loss: 1.2963 - accuracy: 0.5853 - val_loss: 1.2978 - val_accuracy: 0.5900\n",
      "Epoch 44/800\n",
      "8000/8000 [==============================] - 0s 18us/sample - loss: 1.2963 - accuracy: 0.5850 - val_loss: 1.2977 - val_accuracy: 0.5900\n",
      "Epoch 45/800\n",
      "8000/8000 [==============================] - 0s 22us/sample - loss: 1.2963 - accuracy: 0.5851 - val_loss: 1.2978 - val_accuracy: 0.5900\n",
      "Epoch 46/800\n",
      "8000/8000 [==============================] - 0s 20us/sample - loss: 1.2963 - accuracy: 0.5846 - val_loss: 1.2978 - val_accuracy: 0.5900\n",
      "Epoch 47/800\n",
      "8000/8000 [==============================] - 0s 19us/sample - loss: 1.2963 - accuracy: 0.5849 - val_loss: 1.2977 - val_accuracy: 0.5900\n",
      "Epoch 48/800\n",
      "8000/8000 [==============================] - 0s 22us/sample - loss: 1.2963 - accuracy: 0.5849 - val_loss: 1.2977 - val_accuracy: 0.5900\n",
      "Epoch 49/800\n",
      "8000/8000 [==============================] - 0s 19us/sample - loss: 1.2963 - accuracy: 0.5849 - val_loss: 1.2977 - val_accuracy: 0.5900\n",
      "Epoch 50/800\n",
      "8000/8000 [==============================] - 0s 19us/sample - loss: 1.2963 - accuracy: 0.5849 - val_loss: 1.2977 - val_accuracy: 0.5900\n",
      "Epoch 51/800\n",
      "8000/8000 [==============================] - 0s 19us/sample - loss: 1.2962 - accuracy: 0.5849 - val_loss: 1.2977 - val_accuracy: 0.5900\n",
      "Epoch 52/800\n",
      "8000/8000 [==============================] - 0s 20us/sample - loss: 1.2963 - accuracy: 0.5849 - val_loss: 1.2977 - val_accuracy: 0.5900\n",
      "Epoch 53/800\n",
      "8000/8000 [==============================] - 0s 21us/sample - loss: 1.2962 - accuracy: 0.5849 - val_loss: 1.2977 - val_accuracy: 0.5900\n",
      "Epoch 54/800\n",
      "8000/8000 [==============================] - 0s 20us/sample - loss: 1.2962 - accuracy: 0.5850 - val_loss: 1.2978 - val_accuracy: 0.5900\n",
      "Epoch 55/800\n",
      "8000/8000 [==============================] - 0s 19us/sample - loss: 1.2962 - accuracy: 0.5849 - val_loss: 1.2977 - val_accuracy: 0.5900\n"
     ]
    },
    {
     "name": "stdout",
     "output_type": "stream",
     "text": [
      "Epoch 56/800\n",
      "8000/8000 [==============================] - 0s 19us/sample - loss: 1.2963 - accuracy: 0.5847 - val_loss: 1.2977 - val_accuracy: 0.5900\n",
      "Epoch 57/800\n",
      "8000/8000 [==============================] - 0s 20us/sample - loss: 1.2962 - accuracy: 0.5847 - val_loss: 1.2977 - val_accuracy: 0.5900\n",
      "Epoch 58/800\n",
      "8000/8000 [==============================] - 0s 22us/sample - loss: 1.2962 - accuracy: 0.5849 - val_loss: 1.2978 - val_accuracy: 0.5900\n",
      "Epoch 59/800\n",
      "8000/8000 [==============================] - 0s 20us/sample - loss: 1.2963 - accuracy: 0.5849 - val_loss: 1.2977 - val_accuracy: 0.5900\n",
      "Epoch 60/800\n",
      "8000/8000 [==============================] - 0s 19us/sample - loss: 1.2962 - accuracy: 0.5849 - val_loss: 1.2978 - val_accuracy: 0.5900\n",
      "Epoch 61/800\n",
      "8000/8000 [==============================] - 0s 19us/sample - loss: 1.2963 - accuracy: 0.5849 - val_loss: 1.2978 - val_accuracy: 0.5900\n",
      "Epoch 62/800\n",
      "8000/8000 [==============================] - 0s 21us/sample - loss: 1.2962 - accuracy: 0.5849 - val_loss: 1.2977 - val_accuracy: 0.5900\n",
      "Epoch 63/800\n",
      "8000/8000 [==============================] - 0s 19us/sample - loss: 1.2962 - accuracy: 0.5853 - val_loss: 1.2977 - val_accuracy: 0.5900\n",
      "Epoch 64/800\n",
      "8000/8000 [==============================] - 0s 19us/sample - loss: 1.2962 - accuracy: 0.5847 - val_loss: 1.2976 - val_accuracy: 0.5900\n",
      "Epoch 65/800\n",
      "8000/8000 [==============================] - 0s 19us/sample - loss: 1.2961 - accuracy: 0.5849 - val_loss: 1.2977 - val_accuracy: 0.5900\n",
      "Epoch 66/800\n",
      "8000/8000 [==============================] - 0s 20us/sample - loss: 1.2962 - accuracy: 0.5847 - val_loss: 1.2977 - val_accuracy: 0.5900\n",
      "Epoch 67/800\n",
      "8000/8000 [==============================] - 0s 19us/sample - loss: 1.2962 - accuracy: 0.5846 - val_loss: 1.2977 - val_accuracy: 0.5900\n",
      "Epoch 68/800\n",
      "8000/8000 [==============================] - 0s 19us/sample - loss: 1.2962 - accuracy: 0.5846 - val_loss: 1.2977 - val_accuracy: 0.5900\n",
      "Epoch 69/800\n",
      "8000/8000 [==============================] - 0s 19us/sample - loss: 1.2962 - accuracy: 0.5845 - val_loss: 1.2977 - val_accuracy: 0.5900\n",
      "Epoch 70/800\n",
      "8000/8000 [==============================] - 0s 20us/sample - loss: 1.2962 - accuracy: 0.5845 - val_loss: 1.2978 - val_accuracy: 0.5900\n",
      "Epoch 71/800\n",
      "8000/8000 [==============================] - 0s 19us/sample - loss: 1.2962 - accuracy: 0.5857 - val_loss: 1.2977 - val_accuracy: 0.5900\n",
      "Epoch 72/800\n",
      "8000/8000 [==============================] - 0s 18us/sample - loss: 1.2962 - accuracy: 0.5847 - val_loss: 1.2978 - val_accuracy: 0.5900\n",
      "Epoch 73/800\n",
      "8000/8000 [==============================] - 0s 20us/sample - loss: 1.2962 - accuracy: 0.5854 - val_loss: 1.2977 - val_accuracy: 0.5900\n",
      "Epoch 74/800\n",
      "8000/8000 [==============================] - 0s 20us/sample - loss: 1.2962 - accuracy: 0.5845 - val_loss: 1.2977 - val_accuracy: 0.5900\n",
      "Epoch 75/800\n",
      "8000/8000 [==============================] - 0s 20us/sample - loss: 1.2962 - accuracy: 0.5853 - val_loss: 1.2978 - val_accuracy: 0.5890\n",
      "Epoch 76/800\n",
      "8000/8000 [==============================] - 0s 19us/sample - loss: 1.2961 - accuracy: 0.5850 - val_loss: 1.2978 - val_accuracy: 0.5905\n",
      "Epoch 77/800\n",
      "8000/8000 [==============================] - 0s 21us/sample - loss: 1.2961 - accuracy: 0.5870 - val_loss: 1.2977 - val_accuracy: 0.5900\n"
     ]
    }
   ],
   "source": [
    "hist,model=dnn(x,y)"
   ]
  },
  {
   "cell_type": "code",
   "execution_count": 138,
   "metadata": {},
   "outputs": [
    {
     "data": {
      "image/png": "[encoded data removed]",
      "text/plain": [
       "<Figure size 432x288 with 2 Axes>"
      ]
     },
     "metadata": {
      "needs_background": "light"
     },
     "output_type": "display_data"
    }
   ],
   "source": [
    "import matplotlib.pyplot as plt\n",
    "\n",
    "fig, loss_ax = plt.subplots()\n",
    "\n",
    "acc_ax = loss_ax.twinx()\n",
    "\n",
    "loss_ax.plot(hist.history['loss'], 'y', label='train loss')\n",
    "loss_ax.plot(hist.history['val_loss'], 'r', label='val loss')\n",
    "\n",
    "acc_ax.plot(hist.history['accuracy'], 'b', label='train acc')\n",
    "acc_ax.plot(hist.history['val_accuracy'], 'g', label='val acc')\n",
    "\n",
    "loss_ax.set_xlabel('epoch')\n",
    "loss_ax.set_ylabel('loss')\n",
    "acc_ax.set_ylabel('accuray')\n",
    "\n",
    "loss_ax.legend(loc='upper left')\n",
    "acc_ax.legend(loc='lower left')\n",
    "\n",
    "plt.show()"
   ]
  },
  {
   "cell_type": "code",
   "execution_count": 139,
   "metadata": {},
   "outputs": [],
   "source": [
    "model.save(\"first_model.h5\")"
   ]
  }
 ],
 "metadata": {
  "kernelspec": {
   "display_name": "Python 3",
   "language": "python",
   "name": "python3"
  },
  "language_info": {
   "codemirror_mode": {
    "name": "ipython",
    "version": 3
   },
   "file_extension": ".py",
   "mimetype": "text/x-python",
   "name": "python",
   "nbconvert_exporter": "python",
   "pygments_lexer": "ipython3",
   "version": "3.7.3"
  }
 },
 "nbformat": 4,
 "nbformat_minor": 2
}
