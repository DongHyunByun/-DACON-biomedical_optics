{
 "cells": [
  {
   "cell_type": "code",
   "execution_count": 7,
   "metadata": {},
   "outputs": [],
   "source": [
    "import numpy as np\n",
    "import pandas as pd"
   ]
  },
  {
   "cell_type": "code",
   "execution_count": 10,
   "metadata": {},
   "outputs": [],
   "source": [
    "train=pd.read_csv(\"train.csv\",index_col=0)\n",
    "test=pd.read_csv(\"test.csv\",index_col=0)"
   ]
  },
  {
   "cell_type": "code",
   "execution_count": 32,
   "metadata": {},
   "outputs": [],
   "source": [
    "# 0값을 결측치로 바꾸기\n",
    "train_dst = train.filter(regex='_dst$', axis=1).replace(0, np.NaN)\n",
    "test_dst = test.filter(regex='_dst$', axis=1).replace(0, np.NaN)"
   ]
  },
  {
   "cell_type": "code",
   "execution_count": 35,
   "metadata": {},
   "outputs": [],
   "source": [
    "#보간\n",
    "train_dst = train_dst.interpolate(methods='linear', axis=1)\n",
    "test_dst = test_dst.interpolate(methods='linear', axis=1)\n",
    "# 스팩트럼 데이터에서 보간이 되지 않은 값은 0으로 일괄 처리한다.\n",
    "train_dst.fillna(0, inplace=True) \n",
    "test_dst.fillna(0, inplace=True)"
   ]
  },
  {
   "cell_type": "code",
   "execution_count": 36,
   "metadata": {},
   "outputs": [
    {
     "data": {
      "text/plain": [
       "<matplotlib.axes._subplots.AxesSubplot at 0x1f930e6c240>"
      ]
     },
     "execution_count": 36,
     "metadata": {},
     "output_type": "execute_result"
    },
    {
     "data": {
      "image/png": "[encoded data removed]",
      "text/plain": [
       "<Figure size 432x288 with 1 Axes>"
      ]
     },
     "metadata": {
      "needs_background": "light"
     },
     "output_type": "display_data"
    }
   ],
   "source": [
    "test_dst.head().T.plot()"
   ]
  },
  {
   "cell_type": "code",
   "execution_count": 37,
   "metadata": {},
   "outputs": [
    {
     "name": "stdout",
     "output_type": "stream",
     "text": [
      "           650_dst       660_dst       670_dst       680_dst       690_dst  \\\n",
      "id                                                                           \n",
      "0     2.447758e-18  1.894578e-18  4.153745e-18  6.412913e-18  1.098559e-17   \n",
      "1     0.000000e+00  0.000000e+00  0.000000e+00  1.995530e-10  1.025259e-10   \n",
      "2     1.677445e-19  3.763590e-20  2.097417e-19  3.818476e-19  5.539534e-19   \n",
      "3     4.044975e-11  4.695169e-11  5.345363e-11  9.106886e-12  1.881458e-11   \n",
      "4     4.784751e-14  7.033465e-14  9.282179e-14  1.153089e-13  1.121056e-13   \n",
      "...            ...           ...           ...           ...           ...   \n",
      "9995  2.728013e-15  1.438586e-14  2.049814e-14  2.661043e-14  3.272271e-14   \n",
      "9996  0.000000e+00  3.021131e-17  2.476993e-17  1.932855e-17  1.388718e-17   \n",
      "9997  7.248393e-12  1.425293e-11  2.125747e-11  1.364016e-11  1.018564e-11   \n",
      "9998  1.629438e-13  8.912821e-14  1.531261e-14  8.313464e-14  3.306053e-13   \n",
      "9999  2.188296e-11  2.462986e-11  2.737677e-11  2.226525e-11  1.715373e-11   \n",
      "\n",
      "           700_dst       710_dst       720_dst       730_dst       740_dst  \\\n",
      "id                                                                           \n",
      "0     8.907142e-19  1.892920e-18  2.895126e-18  3.897332e-18  4.899539e-18   \n",
      "1     1.046220e-10  1.067180e-10  1.088140e-10  1.109100e-10  1.130060e-10   \n",
      "2     7.260593e-19  8.981651e-19  1.944683e-19  8.126907e-19  2.183200e-19   \n",
      "3     3.617201e-11  7.909656e-13  7.958742e-11  1.583839e-10  1.630944e-10   \n",
      "4     1.089024e-13  1.056991e-13  7.935493e-14  5.301078e-14  2.666663e-14   \n",
      "...            ...           ...           ...           ...           ...   \n",
      "9995  3.883500e-14  1.111576e-14  4.196881e-14  2.801867e-14  1.406853e-14   \n",
      "9996  8.445801e-18  2.316884e-17  3.789188e-17  4.785163e-17  5.781138e-17   \n",
      "9997  8.771891e-12  7.358144e-12  5.944397e-12  1.017627e-11  4.223636e-12   \n",
      "9998  2.573615e-13  1.841178e-13  1.108741e-13  9.765183e-14  8.442958e-14   \n",
      "9999  1.204221e-11  6.930687e-12  9.235727e-12  1.154077e-11  9.190623e-12   \n",
      "\n",
      "      ...       900_dst       910_dst       920_dst       930_dst  \\\n",
      "id    ...                                                           \n",
      "0     ...  3.076794e-18  3.527371e-18  2.086464e-18  6.455564e-19   \n",
      "1     ...  2.647633e-09  3.940557e-09  5.233480e-09  1.264238e-08   \n",
      "2     ...  4.629125e-18  1.409413e-18  3.237480e-18  2.919521e-18   \n",
      "3     ...  1.274876e-10  6.118947e-11  1.137891e-10  1.663888e-10   \n",
      "4     ...  8.737755e-14  5.137687e-14  1.537619e-14  4.996522e-14   \n",
      "...   ...           ...           ...           ...           ...   \n",
      "9995  ...  4.071391e-15  2.314357e-15  2.694142e-15  1.686503e-15   \n",
      "9996  ...  2.011769e-16  1.088128e-16  1.644859e-17  6.861706e-17   \n",
      "9997  ...  6.898068e-11  6.756591e-11  6.615115e-11  6.473638e-11   \n",
      "9998  ...  3.467409e-13  3.149953e-13  4.371711e-14  1.858221e-13   \n",
      "9999  ...  2.434380e-11  1.302975e-11  1.715686e-12  7.660853e-12   \n",
      "\n",
      "           940_dst       950_dst       960_dst       970_dst       980_dst  \\\n",
      "id                                                                           \n",
      "0     7.510433e-19  8.565303e-19  9.620173e-19  1.067504e-18  5.998949e-18   \n",
      "1     1.343132e-08  6.112685e-09  2.130547e-09  5.920319e-09  9.710091e-09   \n",
      "2     2.601562e-18  2.283602e-18  1.965643e-18  1.647684e-18  1.329725e-18   \n",
      "3     2.245998e-10  1.299511e-10  7.782625e-11  2.433592e-10  4.088921e-10   \n",
      "4     1.457955e-13  8.769053e-14  1.103571e-13  1.330237e-13  1.330237e-13   \n",
      "...            ...           ...           ...           ...           ...   \n",
      "9995  6.788642e-16  6.152555e-16  5.516467e-16  9.690979e-16  1.391635e-15   \n",
      "9996  1.814274e-16  1.117148e-16  7.352416e-17  3.280294e-16  5.825347e-16   \n",
      "9997  4.828451e-11  3.110419e-11  8.119095e-12  7.926532e-11  1.504115e-10   \n",
      "9998  3.279271e-13  1.863433e-13  4.475946e-14  1.431808e-12  2.818857e-12   \n",
      "9999  2.499067e-12  5.731075e-12  8.963083e-12  1.219509e-11  3.259396e-12   \n",
      "\n",
      "           990_dst  \n",
      "id                  \n",
      "0     4.378513e-17  \n",
      "1     9.710091e-09  \n",
      "2     1.329725e-18  \n",
      "3     4.088921e-10  \n",
      "4     1.330237e-13  \n",
      "...            ...  \n",
      "9995  5.460702e-14  \n",
      "9996  4.226436e-15  \n",
      "9997  4.003657e-10  \n",
      "9998  1.408742e-11  \n",
      "9999  3.830300e-11  \n",
      "\n",
      "[10000 rows x 35 columns]\n"
     ]
    }
   ],
   "source": [
    "print(train_dst)"
   ]
  }
 ],
 "metadata": {
  "kernelspec": {
   "display_name": "Python 3",
   "language": "python",
   "name": "python3"
  },
  "language_info": {
   "codemirror_mode": {
    "name": "ipython",
    "version": 3
   },
   "file_extension": ".py",
   "mimetype": "text/x-python",
   "name": "python",
   "nbconvert_exporter": "python",
   "pygments_lexer": "ipython3",
   "version": "3.7.3"
  }
 },
 "nbformat": 4,
 "nbformat_minor": 2
}
