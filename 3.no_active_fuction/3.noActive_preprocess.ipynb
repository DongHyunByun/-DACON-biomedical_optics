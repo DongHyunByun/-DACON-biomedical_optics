{
 "cells": [
  {
   "cell_type": "code",
   "execution_count": 3,
   "metadata": {},
   "outputs": [],
   "source": [
    "import pandas as pd\n",
    "import numpy as np"
   ]
  },
  {
   "cell_type": "code",
   "execution_count": 4,
   "metadata": {},
   "outputs": [
    {
     "data": {
      "text/plain": [
       "id         4.999500e+03\n",
       "rho        1.756800e+01\n",
       "650_src    1.802125e-01\n",
       "660_src    2.035285e-01\n",
       "670_src    2.298040e-01\n",
       "               ...     \n",
       "990_dst    2.364072e-10\n",
       "hhb        7.990686e+00\n",
       "hbo2       4.009146e+00\n",
       "ca         9.019226e+00\n",
       "na         3.042651e+00\n",
       "Length: 76, dtype: float64"
      ]
     },
     "execution_count": 4,
     "metadata": {},
     "output_type": "execute_result"
    }
   ],
   "source": [
    "csv=pd.read_csv(\"train.csv\")\n",
    "csv.mean()"
   ]
  },
  {
   "cell_type": "code",
   "execution_count": 5,
   "metadata": {},
   "outputs": [
    {
     "name": "stderr",
     "output_type": "stream",
     "text": [
      "C:\\anaconda\\lib\\site-packages\\ipykernel_launcher.py:6: FutureWarning: Method .as_matrix will be removed in a future version. Use .values instead.\n",
      "  \n"
     ]
    }
   ],
   "source": [
    "size=len(csv)\n",
    "x_col=csv.columns[1:-4]\n",
    "isNan=csv.isna()\n",
    "\n",
    "\n",
    "x=csv[[i for i in x_col]].as_matrix()\n",
    "x=[]\n",
    "for i in range(size):\n",
    "    temp=[]\n",
    "    for col in x_col:\n",
    "        #결측치면 평균으로\n",
    "        if isNan[col][i]:\n",
    "            temp.append(csv.mean()[col])\n",
    "        else:\n",
    "            temp.append(csv[col][i])\n",
    "    x.append(temp)"
   ]
  },
  {
   "cell_type": "code",
   "execution_count": 6,
   "metadata": {},
   "outputs": [],
   "source": [
    "x=np.array(x,dtype=np.float64)"
   ]
  },
  {
   "cell_type": "code",
   "execution_count": 7,
   "metadata": {},
   "outputs": [
    {
     "name": "stdout",
     "output_type": "stream",
     "text": [
      "[[ 5.59  4.32  8.92  4.29]\n",
      " [ 0.    2.83  7.25  4.64]\n",
      " [10.64  3.    8.4   5.16]\n",
      " ...\n",
      " [ 9.84  3.2  10.45  2.06]\n",
      " [ 6.38  4.06 11.28  4.03]\n",
      " [ 9.35  4.34  9.73  3.54]]\n"
     ]
    },
    {
     "name": "stderr",
     "output_type": "stream",
     "text": [
      "C:\\anaconda\\lib\\site-packages\\ipykernel_launcher.py:2: FutureWarning: Method .as_matrix will be removed in a future version. Use .values instead.\n",
      "  \n"
     ]
    }
   ],
   "source": [
    "y_col=csv.columns[-4:]\n",
    "y=csv[[i for i in y_col]].as_matrix()\n",
    "print(y)"
   ]
  },
  {
   "cell_type": "code",
   "execution_count": 8,
   "metadata": {},
   "outputs": [],
   "source": [
    "import tensorflow as tf\n",
    "from tensorflow.keras import layers"
   ]
  },
  {
   "cell_type": "code",
   "execution_count": 14,
   "metadata": {},
   "outputs": [],
   "source": [
    "def dnn(x,y):\n",
    "    model = tf.keras.Sequential()  #순차적 계층화 준비\n",
    "    model.add(layers.Dense(140, input_shape=(71,))) \n",
    "    model.add(layers.Activation('relu')) \n",
    "\n",
    "    model.add(layers.Dense(140))  \n",
    "    model.add(layers.Activation('relu'))\n",
    "\n",
    "    model.add(layers.Dense(140))  \n",
    "    model.add(layers.Activation('relu'))\n",
    "    \n",
    "    model.add(layers.Dense(4))\n",
    "\n",
    "    # 모델 구축하기\n",
    "    model.compile(\n",
    "        loss='mse',\n",
    "        optimizer=\"adam\",\n",
    "        metrics=['mae'])\n",
    "    \n",
    "    hist = model.fit(\n",
    "    x, y,\n",
    "    batch_size=100,  #100개에 한 번씩 업데이터 실행\n",
    "    epochs=800,     \n",
    "    validation_split=0.2,  \n",
    "    callbacks=[tf.keras.callbacks.EarlyStopping(monitor='val_loss', patience=50)],  \n",
    "      #'val_loss'를 monitor하여 감소하면 한 번 더(1) 참고 조기중지\n",
    "    verbose=1)\n",
    "    \n",
    "    return hist,model\n"
   ]
  },
  {
   "cell_type": "code",
   "execution_count": 15,
   "metadata": {},
   "outputs": [
    {
     "name": "stdout",
     "output_type": "stream",
     "text": [
      "Train on 8000 samples, validate on 2000 samples\n",
      "Epoch 1/800\n",
      "8000/8000 [==============================] - 3s 316us/sample - loss: 10.1761 - mae: 2.3889 - val_loss: 7.7107 - val_mae: 2.0840\n",
      "Epoch 2/800\n",
      "8000/8000 [==============================] - 0s 41us/sample - loss: 6.9145 - mae: 1.9752 - val_loss: 6.3760 - val_mae: 1.8931\n",
      "Epoch 3/800\n",
      "8000/8000 [==============================] - 0s 34us/sample - loss: 6.0905 - mae: 1.8540 - val_loss: 6.0212 - val_mae: 1.8450\n",
      "Epoch 4/800\n",
      "8000/8000 [==============================] - 0s 33us/sample - loss: 5.8282 - mae: 1.8185 - val_loss: 5.8539 - val_mae: 1.8215\n",
      "Epoch 5/800\n",
      "8000/8000 [==============================] - 0s 36us/sample - loss: 5.8252 - mae: 1.8156 - val_loss: 5.8791 - val_mae: 1.8240\n",
      "Epoch 6/800\n",
      "8000/8000 [==============================] - 0s 31us/sample - loss: 5.6943 - mae: 1.7963 - val_loss: 5.7829 - val_mae: 1.8081\n",
      "Epoch 7/800\n",
      "8000/8000 [==============================] - 0s 36us/sample - loss: 5.6872 - mae: 1.7951 - val_loss: 5.8270 - val_mae: 1.8124\n",
      "Epoch 8/800\n",
      "8000/8000 [==============================] - 0s 32us/sample - loss: 5.6556 - mae: 1.7888 - val_loss: 5.7515 - val_mae: 1.8022\n",
      "Epoch 9/800\n",
      "8000/8000 [==============================] - 0s 34us/sample - loss: 5.6464 - mae: 1.7864 - val_loss: 5.8149 - val_mae: 1.8163\n",
      "Epoch 10/800\n",
      "8000/8000 [==============================] - 0s 32us/sample - loss: 5.7351 - mae: 1.8019 - val_loss: 5.9451 - val_mae: 1.8453\n",
      "Epoch 11/800\n",
      "8000/8000 [==============================] - 0s 32us/sample - loss: 5.6220 - mae: 1.7840 - val_loss: 5.7518 - val_mae: 1.8037\n",
      "Epoch 12/800\n",
      "8000/8000 [==============================] - 0s 33us/sample - loss: 5.6127 - mae: 1.7808 - val_loss: 5.7455 - val_mae: 1.8027\n",
      "Epoch 13/800\n",
      "8000/8000 [==============================] - 0s 39us/sample - loss: 5.6202 - mae: 1.7847 - val_loss: 5.7507 - val_mae: 1.8022\n",
      "Epoch 14/800\n",
      "8000/8000 [==============================] - 0s 34us/sample - loss: 5.6153 - mae: 1.7812 - val_loss: 5.7594 - val_mae: 1.8045\n",
      "Epoch 15/800\n",
      "8000/8000 [==============================] - 0s 30us/sample - loss: 5.6577 - mae: 1.7891 - val_loss: 5.7569 - val_mae: 1.8049\n",
      "Epoch 16/800\n",
      "8000/8000 [==============================] - 0s 33us/sample - loss: 5.6055 - mae: 1.7800 - val_loss: 5.7458 - val_mae: 1.8024\n",
      "Epoch 17/800\n",
      "8000/8000 [==============================] - 0s 34us/sample - loss: 5.5892 - mae: 1.7763 - val_loss: 5.7635 - val_mae: 1.8015\n",
      "Epoch 18/800\n",
      "8000/8000 [==============================] - 0s 36us/sample - loss: 5.5806 - mae: 1.7773 - val_loss: 5.7564 - val_mae: 1.8013\n",
      "Epoch 19/800\n",
      "8000/8000 [==============================] - 0s 31us/sample - loss: 5.6113 - mae: 1.7824 - val_loss: 5.7328 - val_mae: 1.8018\n",
      "Epoch 20/800\n",
      "8000/8000 [==============================] - 0s 32us/sample - loss: 5.6515 - mae: 1.7873 - val_loss: 5.7301 - val_mae: 1.7966\n",
      "Epoch 21/800\n",
      "8000/8000 [==============================] - 0s 32us/sample - loss: 5.5864 - mae: 1.7794 - val_loss: 5.7596 - val_mae: 1.8056\n",
      "Epoch 22/800\n",
      "8000/8000 [==============================] - 0s 33us/sample - loss: 5.6141 - mae: 1.7821 - val_loss: 5.7469 - val_mae: 1.8027\n",
      "Epoch 23/800\n",
      "8000/8000 [==============================] - 0s 33us/sample - loss: 5.5918 - mae: 1.7782 - val_loss: 5.7186 - val_mae: 1.7983\n",
      "Epoch 24/800\n",
      "8000/8000 [==============================] - 0s 34us/sample - loss: 5.5987 - mae: 1.7809 - val_loss: 5.7604 - val_mae: 1.8050\n",
      "Epoch 25/800\n",
      "8000/8000 [==============================] - 0s 34us/sample - loss: 5.5808 - mae: 1.7760 - val_loss: 5.8076 - val_mae: 1.8138\n",
      "Epoch 26/800\n",
      "8000/8000 [==============================] - 0s 35us/sample - loss: 5.5811 - mae: 1.7772 - val_loss: 5.7356 - val_mae: 1.8010\n",
      "Epoch 27/800\n",
      "8000/8000 [==============================] - 0s 31us/sample - loss: 5.5725 - mae: 1.7762 - val_loss: 5.7733 - val_mae: 1.8086\n",
      "Epoch 28/800\n",
      "8000/8000 [==============================] - 0s 32us/sample - loss: 5.5816 - mae: 1.7762 - val_loss: 5.7097 - val_mae: 1.7965\n",
      "Epoch 29/800\n",
      "8000/8000 [==============================] - 0s 35us/sample - loss: 5.5626 - mae: 1.7750 - val_loss: 5.7467 - val_mae: 1.8018\n",
      "Epoch 30/800\n",
      "8000/8000 [==============================] - 0s 33us/sample - loss: 5.5661 - mae: 1.7751 - val_loss: 5.9392 - val_mae: 1.8250\n",
      "Epoch 31/800\n",
      "8000/8000 [==============================] - 0s 33us/sample - loss: 5.5736 - mae: 1.7763 - val_loss: 5.7177 - val_mae: 1.7967\n",
      "Epoch 32/800\n",
      "8000/8000 [==============================] - 0s 33us/sample - loss: 5.5858 - mae: 1.7775 - val_loss: 5.7362 - val_mae: 1.7988\n",
      "Epoch 33/800\n",
      "8000/8000 [==============================] - 0s 32us/sample - loss: 5.5913 - mae: 1.7774 - val_loss: 5.7785 - val_mae: 1.8067\n",
      "Epoch 34/800\n",
      "8000/8000 [==============================] - 0s 33us/sample - loss: 5.5694 - mae: 1.7749 - val_loss: 5.7538 - val_mae: 1.8046\n",
      "Epoch 35/800\n",
      "8000/8000 [==============================] - 0s 32us/sample - loss: 5.5666 - mae: 1.7752 - val_loss: 5.7145 - val_mae: 1.7958\n",
      "Epoch 36/800\n",
      "8000/8000 [==============================] - 0s 32us/sample - loss: 5.5750 - mae: 1.7752 - val_loss: 5.7323 - val_mae: 1.8008\n",
      "Epoch 37/800\n",
      "8000/8000 [==============================] - 0s 33us/sample - loss: 5.5968 - mae: 1.7778 - val_loss: 5.7995 - val_mae: 1.8104\n",
      "Epoch 38/800\n",
      "8000/8000 [==============================] - 0s 34us/sample - loss: 5.5719 - mae: 1.7755 - val_loss: 5.7178 - val_mae: 1.7962\n",
      "Epoch 39/800\n",
      "8000/8000 [==============================] - 0s 36us/sample - loss: 5.5536 - mae: 1.7725 - val_loss: 5.7193 - val_mae: 1.7968\n",
      "Epoch 40/800\n",
      "8000/8000 [==============================] - 0s 36us/sample - loss: 5.5502 - mae: 1.7725 - val_loss: 5.7405 - val_mae: 1.8009\n",
      "Epoch 41/800\n",
      "8000/8000 [==============================] - 0s 33us/sample - loss: 5.5569 - mae: 1.7740 - val_loss: 5.7300 - val_mae: 1.7986\n",
      "Epoch 42/800\n",
      "8000/8000 [==============================] - 0s 36us/sample - loss: 5.5832 - mae: 1.7753 - val_loss: 5.7171 - val_mae: 1.7955\n",
      "Epoch 43/800\n",
      "8000/8000 [==============================] - 0s 44us/sample - loss: 5.5470 - mae: 1.7710 - val_loss: 5.7441 - val_mae: 1.8013\n",
      "Epoch 44/800\n",
      "8000/8000 [==============================] - 0s 40us/sample - loss: 5.5538 - mae: 1.7717 - val_loss: 5.7374 - val_mae: 1.8008\n",
      "Epoch 45/800\n",
      "8000/8000 [==============================] - 0s 36us/sample - loss: 5.5453 - mae: 1.7711 - val_loss: 5.7370 - val_mae: 1.8006\n",
      "Epoch 46/800\n",
      "8000/8000 [==============================] - 0s 35us/sample - loss: 5.5562 - mae: 1.7738 - val_loss: 5.7228 - val_mae: 1.7991\n",
      "Epoch 47/800\n",
      "8000/8000 [==============================] - 0s 35us/sample - loss: 5.5579 - mae: 1.7741 - val_loss: 5.7880 - val_mae: 1.8107\n",
      "Epoch 48/800\n",
      "8000/8000 [==============================] - 0s 35us/sample - loss: 5.5482 - mae: 1.7714 - val_loss: 5.7711 - val_mae: 1.8051\n",
      "Epoch 49/800\n",
      "8000/8000 [==============================] - 0s 39us/sample - loss: 5.5451 - mae: 1.7703 - val_loss: 5.7162 - val_mae: 1.7965\n",
      "Epoch 50/800\n",
      "8000/8000 [==============================] - 0s 34us/sample - loss: 5.5388 - mae: 1.7706 - val_loss: 5.7886 - val_mae: 1.8076\n",
      "Epoch 51/800\n",
      "8000/8000 [==============================] - 0s 35us/sample - loss: 5.5553 - mae: 1.7734 - val_loss: 5.7603 - val_mae: 1.8074\n",
      "Epoch 52/800\n",
      "8000/8000 [==============================] - 0s 33us/sample - loss: 5.5566 - mae: 1.7737 - val_loss: 5.7375 - val_mae: 1.7998\n",
      "Epoch 53/800\n",
      "8000/8000 [==============================] - 0s 35us/sample - loss: 5.5609 - mae: 1.7746 - val_loss: 5.7545 - val_mae: 1.8025\n",
      "Epoch 54/800\n",
      "8000/8000 [==============================] - 0s 39us/sample - loss: 5.5403 - mae: 1.7701 - val_loss: 5.7689 - val_mae: 1.8037\n",
      "Epoch 55/800\n",
      "8000/8000 [==============================] - 0s 34us/sample - loss: 5.5447 - mae: 1.7706 - val_loss: 5.7765 - val_mae: 1.8022\n",
      "Epoch 56/800\n",
      "8000/8000 [==============================] - 0s 33us/sample - loss: 5.5459 - mae: 1.7725 - val_loss: 5.7182 - val_mae: 1.7957\n",
      "Epoch 57/800\n",
      "8000/8000 [==============================] - 0s 31us/sample - loss: 5.5642 - mae: 1.7753 - val_loss: 5.7715 - val_mae: 1.8049\n",
      "Epoch 58/800\n",
      "8000/8000 [==============================] - 0s 33us/sample - loss: 5.5791 - mae: 1.7759 - val_loss: 5.7488 - val_mae: 1.8010\n",
      "Epoch 59/800\n"
     ]
    },
    {
     "name": "stdout",
     "output_type": "stream",
     "text": [
      "8000/8000 [==============================] - 0s 33us/sample - loss: 5.5343 - mae: 1.7695 - val_loss: 5.7334 - val_mae: 1.7981\n",
      "Epoch 60/800\n",
      "8000/8000 [==============================] - 0s 34us/sample - loss: 5.5545 - mae: 1.7736 - val_loss: 5.7148 - val_mae: 1.7960\n",
      "Epoch 61/800\n",
      "8000/8000 [==============================] - 0s 30us/sample - loss: 5.5422 - mae: 1.7700 - val_loss: 5.8698 - val_mae: 1.8199\n",
      "Epoch 62/800\n",
      "8000/8000 [==============================] - 0s 33us/sample - loss: 5.5664 - mae: 1.7754 - val_loss: 5.7323 - val_mae: 1.7994\n",
      "Epoch 63/800\n",
      "8000/8000 [==============================] - 0s 32us/sample - loss: 5.5383 - mae: 1.7695 - val_loss: 5.7339 - val_mae: 1.7987\n",
      "Epoch 64/800\n",
      "8000/8000 [==============================] - 0s 32us/sample - loss: 5.5550 - mae: 1.7715 - val_loss: 5.7296 - val_mae: 1.8003\n",
      "Epoch 65/800\n",
      "8000/8000 [==============================] - 0s 33us/sample - loss: 5.5205 - mae: 1.7676 - val_loss: 5.7397 - val_mae: 1.7999\n",
      "Epoch 66/800\n",
      "8000/8000 [==============================] - 0s 32us/sample - loss: 5.5238 - mae: 1.7680 - val_loss: 5.7899 - val_mae: 1.8077\n",
      "Epoch 67/800\n",
      "8000/8000 [==============================] - 0s 32us/sample - loss: 5.5160 - mae: 1.7667 - val_loss: 5.7761 - val_mae: 1.8090\n",
      "Epoch 68/800\n",
      "8000/8000 [==============================] - 0s 31us/sample - loss: 5.5270 - mae: 1.7683 - val_loss: 5.7313 - val_mae: 1.7986\n",
      "Epoch 69/800\n",
      "8000/8000 [==============================] - 0s 33us/sample - loss: 5.5221 - mae: 1.7670 - val_loss: 5.7961 - val_mae: 1.8117\n",
      "Epoch 70/800\n",
      "8000/8000 [==============================] - 0s 34us/sample - loss: 5.5454 - mae: 1.7716 - val_loss: 5.7334 - val_mae: 1.7990\n",
      "Epoch 71/800\n",
      "8000/8000 [==============================] - 0s 33us/sample - loss: 5.5240 - mae: 1.7683 - val_loss: 5.7420 - val_mae: 1.8009\n",
      "Epoch 72/800\n",
      "8000/8000 [==============================] - 0s 32us/sample - loss: 5.5111 - mae: 1.7655 - val_loss: 5.7354 - val_mae: 1.7979\n",
      "Epoch 73/800\n",
      "8000/8000 [==============================] - 0s 33us/sample - loss: 5.5242 - mae: 1.7674 - val_loss: 5.7475 - val_mae: 1.8000\n",
      "Epoch 74/800\n",
      "8000/8000 [==============================] - 0s 33us/sample - loss: 5.5270 - mae: 1.7678 - val_loss: 5.7495 - val_mae: 1.7979\n",
      "Epoch 75/800\n",
      "8000/8000 [==============================] - 0s 33us/sample - loss: 5.5291 - mae: 1.7706 - val_loss: 5.7452 - val_mae: 1.7987\n",
      "Epoch 76/800\n",
      "8000/8000 [==============================] - 0s 36us/sample - loss: 5.5368 - mae: 1.7696 - val_loss: 5.7569 - val_mae: 1.8021\n",
      "Epoch 77/800\n",
      "8000/8000 [==============================] - 0s 34us/sample - loss: 5.5243 - mae: 1.7686 - val_loss: 5.7190 - val_mae: 1.7951\n",
      "Epoch 78/800\n",
      "8000/8000 [==============================] - 0s 33us/sample - loss: 5.5245 - mae: 1.7683 - val_loss: 5.7403 - val_mae: 1.7963\n"
     ]
    }
   ],
   "source": [
    "hist,model=dnn(x,y)"
   ]
  },
  {
   "cell_type": "code",
   "execution_count": 17,
   "metadata": {},
   "outputs": [
    {
     "data": {
      "image/png": "[encoded data removed]",
      "text/plain": [
       "<Figure size 432x288 with 2 Axes>"
      ]
     },
     "metadata": {
      "needs_background": "light"
     },
     "output_type": "display_data"
    }
   ],
   "source": [
    "import matplotlib.pyplot as plt\n",
    "\n",
    "fig, loss_ax = plt.subplots()\n",
    "\n",
    "acc_ax = loss_ax.twinx()\n",
    "\n",
    "loss_ax.plot(hist.history['loss'], 'y', label='train loss')\n",
    "loss_ax.plot(hist.history['val_loss'], 'r', label='val loss')\n",
    "\n",
    "acc_ax.plot(hist.history['mae'], 'b', label='train mae')\n",
    "acc_ax.plot(hist.history['val_mae'], 'g', label='val mae')\n",
    "\n",
    "loss_ax.set_xlabel('epoch')\n",
    "loss_ax.set_ylabel('loss')\n",
    "acc_ax.set_ylabel('mean_absolute_error')\n",
    "\n",
    "loss_ax.legend(loc='upper left')\n",
    "acc_ax.legend(loc='lower left')\n",
    "\n",
    "plt.show()"
   ]
  },
  {
   "cell_type": "code",
   "execution_count": 18,
   "metadata": {},
   "outputs": [],
   "source": [
    "model.save(\"second_linear_model2.h5\")"
   ]
  }
 ],
 "metadata": {
  "kernelspec": {
   "display_name": "Python 3",
   "language": "python",
   "name": "python3"
  },
  "language_info": {
   "codemirror_mode": {
    "name": "ipython",
    "version": 3
   },
   "file_extension": ".py",
   "mimetype": "text/x-python",
   "name": "python",
   "nbconvert_exporter": "python",
   "pygments_lexer": "ipython3",
   "version": "3.7.3"
  }
 },
 "nbformat": 4,
 "nbformat_minor": 2
}
